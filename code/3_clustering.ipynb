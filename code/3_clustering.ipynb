{
 "cells": [
  {
   "cell_type": "markdown",
   "metadata": {},
   "source": [
    "# Clustering"
   ]
  },
  {
   "cell_type": "code",
   "execution_count": 1,
   "metadata": {
    "collapsed": true
   },
   "outputs": [],
   "source": [
    "# packages\n",
    "import pandas as pd\n",
    "import numpy as np\n",
    "import matplotlib.pyplot as plt\n",
    "import matplotlib.gridspec as gridspec\n",
    "from sklearn.cluster import KMeans\n",
    "from sklearn import metrics\n",
    "from sklearn.cluster import DBSCAN\n",
    "from sklearn.cluster import AgglomerativeClustering\n",
    "from scipy.cluster.hierarchy import linkage, dendrogram\n",
    "\n",
    "# helper modules\n",
    "exec(open('helper_functions.py').read())\n",
    "\n",
    "# load our previously processed well data\n",
    "unscaled_well_data = pd.read_csv('../data/unscaled_well_data.csv')\n",
    "scaled_well_data = pd.read_csv('../data/scaled_well_data.csv')"
   ]
  },
  {
   "cell_type": "markdown",
   "metadata": {},
   "source": [
    "## K-Means Clustering\n",
    "we will use the scaled well completion dataset from here on\n",
    "say we want to cluster a section of wells into three type curves instead of one\n",
    "k-means"
   ]
  },
  {
   "cell_type": "code",
   "execution_count": null,
   "metadata": {
    "collapsed": true
   },
   "outputs": [],
   "source": [
    "kmeans_2 = KMeans(n_clusters=2, random_state=0).fit(scaled_well_data)\n",
    "plot_cluster_results(kmeans_2, scaled_well_data)\n",
    "#within cluster sum of squared error (i.e. withinness)\n",
    "kmeans.inertia_\n",
    "kmeans_elbowplot(X)"
   ]
  },
  {
   "cell_type": "code",
   "execution_count": null,
   "metadata": {
    "collapsed": true
   },
   "outputs": [],
   "source": [
    "kmeans_5 = KMeans(n_clusters=3, random_state=0).fit(scaled_well_data)\n",
    "plot_cluster_results(kmeans_3, scaled_well_data)\n",
    "#within cluster sum of squared error (i.e. withinness)\n",
    "kmeans.inertia_\n",
    "kmeans_elbowplot(X)"
   ]
  },
  {
   "cell_type": "code",
   "execution_count": null,
   "metadata": {
    "collapsed": true
   },
   "outputs": [],
   "source": [
    "kmeans_3plus = KMeans(n_clusters=3, init='k-means++', max_iter=300, \n",
    "                n_init=10, random_state=0).fit(scaled_well_data)\n",
    "plot_cluster_results(kmeans_3plus, scaled_well_data)\n",
    "#within cluster sum of squared error (i.e. withinness)\n",
    "kmeans.inertia_\n",
    "kmeans_elbowplot(X)"
   ]
  },
  {
   "cell_type": "markdown",
   "metadata": {},
   "source": [
    "Now we look at another type of clustering to see how the sklearn framework is relatively consistent and convienient for doing unsupervised learning "
   ]
  },
  {
   "cell_type": "code",
   "execution_count": null,
   "metadata": {
    "collapsed": true
   },
   "outputs": [],
   "source": [
    "#TODO : Put a good dbscan example in\n",
    "db = DBSCAN(eps=20, min_samples=10).fit(X)\n",
    "plot_cluster_results(db, scaled_well_data)\n"
   ]
  },
  {
   "cell_type": "markdown",
   "metadata": {},
   "source": [
    "## HIERARCHICAL CLUSTERING"
   ]
  },
  {
   "cell_type": "code",
   "execution_count": null,
   "metadata": {
    "collapsed": true
   },
   "outputs": [],
   "source": [
    "# \"ward\" minimizes the variance of the clusters being merged.\n",
    "ward_hclust = AgglomerativeClustering(n_clusters=3, linkage='ward').fit(X)\n",
    "plot_dendrogram(X, method = 'ward')"
   ]
  },
  {
   "cell_type": "code",
   "execution_count": null,
   "metadata": {
    "collapsed": true
   },
   "outputs": [],
   "source": [
    "# \"average\" uses the average of the distances of each observation of the two sets.\n",
    "avg_hclust = AgglomerativeClustering(n_clusters=3, linkage='average').fit(X)\n",
    "plot_dendrogram(X, method = 'average')"
   ]
  },
  {
   "cell_type": "code",
   "execution_count": null,
   "metadata": {
    "collapsed": true
   },
   "outputs": [],
   "source": [
    "# \"complete\" or maximum linkage uses the maximum distances between all observations.\n",
    "comp_hclust = AgglomerativeClustering(n_clusters=3, linkage='complete').fit(X)\n",
    "plot_dendrogram(X, method = 'complete')"
   ]
  }
 ],
 "metadata": {
  "kernelspec": {
   "display_name": "Python 3",
   "language": "python",
   "name": "python3"
  },
  "language_info": {
   "codemirror_mode": {
    "name": "ipython",
    "version": 3
   },
   "file_extension": ".py",
   "mimetype": "text/x-python",
   "name": "python",
   "nbconvert_exporter": "python",
   "pygments_lexer": "ipython3",
   "version": "3.6.3"
  }
 },
 "nbformat": 4,
 "nbformat_minor": 2
}
