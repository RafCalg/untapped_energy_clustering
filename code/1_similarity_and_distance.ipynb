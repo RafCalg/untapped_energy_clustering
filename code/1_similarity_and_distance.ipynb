{
 "cells": [
  {
   "cell_type": "markdown",
   "metadata": {},
   "source": [
    "# Part 1: Similarity and Distance \n",
    "\n",
    "This section covers the concepts of similarity and distance using scipy and k-nearest neighbors. First, we import our packages with an alias (`import library as alias`) and load a couple helper functions I wrote to speed things up. These modules (collections of functions) are located in the `code` directory."
   ]
  },
  {
   "cell_type": "code",
   "execution_count": 1,
   "metadata": {
    "collapsed": true
   },
   "outputs": [],
   "source": [
    "# packages\n",
    "import pandas as pd\n",
    "import numpy as np\n",
    "import matplotlib.pyplot as plt\n",
    "import matplotlib.gridspec as gridspec\n",
    "import scipy.spatial.distance as ssd\n",
    "from sklearn.preprocessing import StandardScaler\n",
    "from sklearn.neighbors import KNeighborsRegressor\n",
    "\n",
    "# helper modules\n",
    "exec(open('helper_functions.py').read())"
   ]
  },
  {
   "cell_type": "markdown",
   "metadata": {},
   "source": [
    "## Introduction\n",
    "\n",
    "Distance and pattern recognition surfaces over and over in data science workflows. It's relatively simple but incredibly useful for both data science and engineering workflows. It's also underutilized. Take a reservoir engineering example. You have a field of wells that are producing oil. You've just installed a new well in the area and want to predict its production profile. Since this well is in a well developed area, there are lots of wells in close proximity, but the geology is complex. You start by taking its closest neighbor using the northing and easting. Unfortunately, you discover that the well is much shallower and in different geology than that well. So, you pull a couple wells that are closer to the same depth and in similar rock. When looking into these, you discover that all these wells are pretty old and that they were completed using different technology. This prompts you to search further and find newer wells with similar geology. After you've spent a couple hours picking similar wells you feel satisfied and average their profiles to produce an average curve.\n",
    "\n",
    "You've just executed a k-Nearest Neighbors (kNN) regression manually, slowly, and without any statistical underpinning. Effectively, you ran through an ad-hoc way of measuring an abstracted distance between features of your well (distance, time, geology, etc.) to select the most appropriate examples for generating a type curve. But this process can be automated, evaluated for performance metrics, and optimized for statistical performance. Oh and did I mention that it's fast and repeatable?\n",
    "\n",
    "The kNN algorithm is one example of a distance based data-science techniques. I hesitate to call it machine learning, because distance based techniques don't really 'learn' by training a model through fitting and hyperparameter tuning. Yet, this technique is incredibly robust and effective. There are also similar algorithms for unsupervised learning (i.e. clustering). In general, there are three steps to implementing a distance based technique successfully, all of which were considered in the ad-hoc process above.\n",
    "\n",
    "1. Choose a good distance metric with appropriate features\n",
    "2. Rank potential candidates based on their distance to your target\n",
    "3. Use a select number of these candidates to perform regression, classification, or clustering"
   ]
  },
  {
   "cell_type": "markdown",
   "metadata": {},
   "source": [
    "## Distance Metrics\n",
    "\n",
    "So how do we measure distance? It's important to first understand that a) there are a lot of different ways to measure distance and b) that each method is a mathematical construct for a specific understanding of distance, and each has pros and cons. For example, Manhattan, or taxi cab, distance can be very useful when working with rasters or trying to evaluate connectivity of points. Euclidean distance is simple and provides the straight line distance between two points, which is why it is used exclusively in a lot of algorithms. There are even distance metrics for categorical and [binary data](https://en.wikipedia.org/wiki/Jaccard_index). The point of selecting a metric is to define our understanding of what constitutes 'near' and 'far' in multidimensional space. Don't underestimate the importance of this - the performance of any regression, classification, or clustering algorithm will ultimately depend on how you define your distance metric."
   ]
  },
  {
   "cell_type": "markdown",
   "metadata": {},
   "source": [
    "This chunk of code loads our well data, which I obtained from the [BCOGC](https://www.bcogc.ca/online-services) and preprocessed. We use pandas to load the csv, clean the date columns, and show the first couple rows of the dataframe (the head)."
   ]
  },
  {
   "cell_type": "code",
   "execution_count": 2,
   "metadata": {},
   "outputs": [
    {
     "data": {
      "text/html": [
       "<div>\n",
       "<style>\n",
       "    .dataframe thead tr:only-child th {\n",
       "        text-align: right;\n",
       "    }\n",
       "\n",
       "    .dataframe thead th {\n",
       "        text-align: left;\n",
       "    }\n",
       "\n",
       "    .dataframe tbody tr th {\n",
       "        vertical-align: top;\n",
       "    }\n",
       "</style>\n",
       "<table border=\"1\" class=\"dataframe\">\n",
       "  <thead>\n",
       "    <tr style=\"text-align: right;\">\n",
       "      <th></th>\n",
       "      <th>unique_surv_id</th>\n",
       "      <th>wa_num</th>\n",
       "      <th>drilling_event</th>\n",
       "      <th>ground_elevtn</th>\n",
       "      <th>mean_ss_tvd</th>\n",
       "      <th>mean_ss_easting</th>\n",
       "      <th>mean_ss_northing</th>\n",
       "      <th>survey_well_type</th>\n",
       "      <th>on_prod_date</th>\n",
       "      <th>last_reported_date</th>\n",
       "      <th>...</th>\n",
       "      <th>horiz_wells_in_5km</th>\n",
       "      <th>horiz_wells_in_10km</th>\n",
       "      <th>horiz_wells_in_25km</th>\n",
       "      <th>first_order_residual</th>\n",
       "      <th>isotherm</th>\n",
       "      <th>paleozoic_structure</th>\n",
       "      <th>raw_montney_top</th>\n",
       "      <th>third_order_residual</th>\n",
       "      <th>seismogenic</th>\n",
       "      <th>n_quakes</th>\n",
       "    </tr>\n",
       "  </thead>\n",
       "  <tbody>\n",
       "    <tr>\n",
       "      <th>0</th>\n",
       "      <td>26709-0</td>\n",
       "      <td>26709</td>\n",
       "      <td>0</td>\n",
       "      <td>967.0</td>\n",
       "      <td>-1038.286881</td>\n",
       "      <td>541258.8972</td>\n",
       "      <td>6312071.186</td>\n",
       "      <td>horizontal</td>\n",
       "      <td>4.649787e+10</td>\n",
       "      <td>9/1/2019</td>\n",
       "      <td>...</td>\n",
       "      <td>11</td>\n",
       "      <td>11</td>\n",
       "      <td>11</td>\n",
       "      <td>-36.180738</td>\n",
       "      <td>85.046572</td>\n",
       "      <td>-1248.991716</td>\n",
       "      <td>2018.972300</td>\n",
       "      <td>57.171039</td>\n",
       "      <td>True</td>\n",
       "      <td>4</td>\n",
       "    </tr>\n",
       "    <tr>\n",
       "      <th>1</th>\n",
       "      <td>26851-0</td>\n",
       "      <td>26851</td>\n",
       "      <td>0</td>\n",
       "      <td>1023.8</td>\n",
       "      <td>-1066.814758</td>\n",
       "      <td>545866.1632</td>\n",
       "      <td>6316437.733</td>\n",
       "      <td>horizontal</td>\n",
       "      <td>4.374902e+10</td>\n",
       "      <td>9/1/2019</td>\n",
       "      <td>...</td>\n",
       "      <td>3</td>\n",
       "      <td>3</td>\n",
       "      <td>3</td>\n",
       "      <td>-60.378993</td>\n",
       "      <td>78.536477</td>\n",
       "      <td>-1176.143361</td>\n",
       "      <td>1891.195420</td>\n",
       "      <td>38.373928</td>\n",
       "      <td>True</td>\n",
       "      <td>2</td>\n",
       "    </tr>\n",
       "    <tr>\n",
       "      <th>2</th>\n",
       "      <td>27232-0</td>\n",
       "      <td>27232</td>\n",
       "      <td>0</td>\n",
       "      <td>1026.5</td>\n",
       "      <td>-1041.326136</td>\n",
       "      <td>546102.0775</td>\n",
       "      <td>6313238.866</td>\n",
       "      <td>horizontal</td>\n",
       "      <td>4.400090e+10</td>\n",
       "      <td>9/1/2019</td>\n",
       "      <td>...</td>\n",
       "      <td>5</td>\n",
       "      <td>5</td>\n",
       "      <td>5</td>\n",
       "      <td>-56.814330</td>\n",
       "      <td>84.212037</td>\n",
       "      <td>-1198.455581</td>\n",
       "      <td>1904.202898</td>\n",
       "      <td>35.885353</td>\n",
       "      <td>True</td>\n",
       "      <td>1</td>\n",
       "    </tr>\n",
       "    <tr>\n",
       "      <th>3</th>\n",
       "      <td>27296-0</td>\n",
       "      <td>27296</td>\n",
       "      <td>0</td>\n",
       "      <td>989.6</td>\n",
       "      <td>-1009.757363</td>\n",
       "      <td>545620.7248</td>\n",
       "      <td>6308451.059</td>\n",
       "      <td>horizontal</td>\n",
       "      <td>4.349713e+10</td>\n",
       "      <td>9/1/2019</td>\n",
       "      <td>...</td>\n",
       "      <td>1</td>\n",
       "      <td>1</td>\n",
       "      <td>1</td>\n",
       "      <td>-6.258352</td>\n",
       "      <td>89.416457</td>\n",
       "      <td>-1280.473172</td>\n",
       "      <td>1999.194236</td>\n",
       "      <td>78.190771</td>\n",
       "      <td>False</td>\n",
       "      <td>0</td>\n",
       "    </tr>\n",
       "    <tr>\n",
       "      <th>4</th>\n",
       "      <td>27302-0</td>\n",
       "      <td>27302</td>\n",
       "      <td>0</td>\n",
       "      <td>1045.0</td>\n",
       "      <td>-1118.887041</td>\n",
       "      <td>542922.7749</td>\n",
       "      <td>6315105.076</td>\n",
       "      <td>horizontal</td>\n",
       "      <td>4.374902e+10</td>\n",
       "      <td>5/1/2019</td>\n",
       "      <td>...</td>\n",
       "      <td>6</td>\n",
       "      <td>6</td>\n",
       "      <td>6</td>\n",
       "      <td>-37.993603</td>\n",
       "      <td>90.301766</td>\n",
       "      <td>-1220.128996</td>\n",
       "      <td>2160.073261</td>\n",
       "      <td>60.405326</td>\n",
       "      <td>False</td>\n",
       "      <td>0</td>\n",
       "    </tr>\n",
       "  </tbody>\n",
       "</table>\n",
       "<p>5 rows × 65 columns</p>\n",
       "</div>"
      ],
      "text/plain": [
       "  unique_surv_id  wa_num  drilling_event  ground_elevtn  mean_ss_tvd  \\\n",
       "0        26709-0   26709               0          967.0 -1038.286881   \n",
       "1        26851-0   26851               0         1023.8 -1066.814758   \n",
       "2        27232-0   27232               0         1026.5 -1041.326136   \n",
       "3        27296-0   27296               0          989.6 -1009.757363   \n",
       "4        27302-0   27302               0         1045.0 -1118.887041   \n",
       "\n",
       "   mean_ss_easting  mean_ss_northing survey_well_type  on_prod_date  \\\n",
       "0      541258.8972       6312071.186       horizontal  4.649787e+10   \n",
       "1      545866.1632       6316437.733       horizontal  4.374902e+10   \n",
       "2      546102.0775       6313238.866       horizontal  4.400090e+10   \n",
       "3      545620.7248       6308451.059       horizontal  4.349713e+10   \n",
       "4      542922.7749       6315105.076       horizontal  4.374902e+10   \n",
       "\n",
       "  last_reported_date    ...     horiz_wells_in_5km  horiz_wells_in_10km  \\\n",
       "0           9/1/2019    ...                     11                   11   \n",
       "1           9/1/2019    ...                      3                    3   \n",
       "2           9/1/2019    ...                      5                    5   \n",
       "3           9/1/2019    ...                      1                    1   \n",
       "4           5/1/2019    ...                      6                    6   \n",
       "\n",
       "   horiz_wells_in_25km  first_order_residual   isotherm  paleozoic_structure  \\\n",
       "0                   11            -36.180738  85.046572         -1248.991716   \n",
       "1                    3            -60.378993  78.536477         -1176.143361   \n",
       "2                    5            -56.814330  84.212037         -1198.455581   \n",
       "3                    1             -6.258352  89.416457         -1280.473172   \n",
       "4                    6            -37.993603  90.301766         -1220.128996   \n",
       "\n",
       "   raw_montney_top  third_order_residual  seismogenic  n_quakes  \n",
       "0      2018.972300             57.171039         True         4  \n",
       "1      1891.195420             38.373928         True         2  \n",
       "2      1904.202898             35.885353         True         1  \n",
       "3      1999.194236             78.190771        False         0  \n",
       "4      2160.073261             60.405326        False         0  \n",
       "\n",
       "[5 rows x 65 columns]"
      ]
     },
     "execution_count": 2,
     "metadata": {},
     "output_type": "execute_result"
    }
   ],
   "source": [
    "# read in completion data\n",
    "well_data = pd.read_csv('../data/bcogc_well_comp_info.csv')\n",
    "\n",
    "# encode dates properly\n",
    "date_cols = ['frac_start_date','frac_end_date', 'on_prod_date']\n",
    "\n",
    "# a couple nice examples of method chaining in python to clean up date columns\n",
    "well_data.loc[:,date_cols] = (\n",
    "        well_data\n",
    "        .loc[:,date_cols]\n",
    "        .apply(pd.to_datetime, errors='coerce')\n",
    "        .apply(pd.to_numeric, errors='coerce')\n",
    "        .div(31556952) # second in a year\n",
    "        )\n",
    "\n",
    "well_data.head()"
   ]
  },
  {
   "cell_type": "markdown",
   "metadata": {},
   "source": [
    "Most machine learning algorithms can only use numeric data. So a lot of data science preprocessing involves picking numeric features, which is what the code below is doing."
   ]
  },
  {
   "cell_type": "code",
   "execution_count": 18,
   "metadata": {
    "collapsed": true
   },
   "outputs": [],
   "source": [
    "# select numeric data, replace NaN and Inf values with zero\n",
    "num_well_data = (well_data\n",
    "                 .select_dtypes(include = [np.number])\n",
    "                 .replace([np.inf, -np.inf], np.nan)\n",
    "                 .fillna(0)\n",
    "                 .copy())\n",
    "\n",
    "#choose columns\n",
    "select_col = ['mean_ss_tvd', 'mean_ss_easting', 'mean_ss_northing', \n",
    "             'on_prod_date', 'frac_start_date','calc_completed_length_m', \n",
    "             'mean_proppant_per_stage_t', 'calc_total_proppant_t',\n",
    "             'total_gas_injected_m3', 'mean_fluid_per_stage_m3',\n",
    "             'calc_total_fluid_m3', 'avg_stage_length', 'avg_stage_spacing',\n",
    "             'mean_rate_m3_min', 'mean_stage_duration_min', 'mean_breakdown_mpa', \n",
    "             'mean_isip_mpa', 'fluid_intensity_comp_length_m3_m',\n",
    "             'proppant_intensity_comp_length_t_m', 'frac_duration_days', \n",
    "             'breakdown_isip_ratio', 'min_midpoint_dist', 'horiz_wells_in_10km', \n",
    "             'first_order_residual', 'isotherm', 'paleozoic_structure', \n",
    "             'raw_montney_top', 'third_order_residual', 'n_quakes']\n",
    "\n",
    "# make a select dataframe\n",
    "select_well_data = num_well_data[num_well_data\n",
    "                                 .columns\n",
    "                                 .intersection(select_col)]\n",
    "\n",
    "# We will write this as a .csv file so we can use it in later notebooks\n",
    "select_well_data.to_csv('../data/unscaled_well_data.csv',index=False)"
   ]
  },
  {
   "cell_type": "markdown",
   "metadata": {},
   "source": [
    "We select the geospatial columns and pick a well in the centre of the map as a `target`. We then assign a distance column with the distance between the target and the other wells."
   ]
  },
  {
   "cell_type": "code",
   "execution_count": 4,
   "metadata": {
    "collapsed": true
   },
   "outputs": [],
   "source": [
    "# pick the closest well to the centre of our area as the target using euclidean distance\n",
    "coord_cols = ['mean_ss_tvd', 'mean_ss_easting', 'mean_ss_northing']\n",
    "centroid = select_well_data.loc[:,coord_cols].mean()\n",
    "\n",
    "target_index = (select_well_data\n",
    "                .loc[:,coord_cols]\n",
    "                .apply(ssd.euclidean, axis=1, v=centroid)\n",
    "                .argmin())\n",
    "\n",
    "# assign the distance function \n",
    "dist_func = ssd.euclidean\n",
    "\n",
    "# assign the distance between the target and all the other wells using dist_func\n",
    "select_well_data = select_well_data.assign(distance = select_well_data.apply(\n",
    "        dist_func, axis=1, v=select_well_data.loc[target_index,:]))"
   ]
  },
  {
   "cell_type": "markdown",
   "metadata": {
    "collapsed": true
   },
   "source": [
    "We can use this distance to predict a value. Boom. You've just done kNN regression and can happily call yourself a champion of data science in the mirror. We use a helper function to plot these wells on a map along with the target. We also report the predicted and actual values using this method. "
   ]
  },
  {
   "cell_type": "code",
   "execution_count": 1,
   "metadata": {},
   "outputs": [
    {
     "ename": "NameError",
     "evalue": "name 'select_well_data' is not defined",
     "output_type": "error",
     "traceback": [
      "\u001b[1;31m---------------------------------------------------------------------------\u001b[0m",
      "\u001b[1;31mNameError\u001b[0m                                 Traceback (most recent call last)",
      "\u001b[1;32m<ipython-input-1-f6441ccf7bc6>\u001b[0m in \u001b[0;36m<module>\u001b[1;34m()\u001b[0m\n\u001b[0;32m      1\u001b[0m \u001b[1;31m# distance on unscaled data\u001b[0m\u001b[1;33m\u001b[0m\u001b[1;33m\u001b[0m\u001b[0m\n\u001b[1;32m----> 2\u001b[1;33m \u001b[0mtop_k_index\u001b[0m \u001b[1;33m=\u001b[0m \u001b[0mselect_well_data\u001b[0m\u001b[1;33m.\u001b[0m\u001b[0mnsmallest\u001b[0m\u001b[1;33m(\u001b[0m\u001b[1;36m10\u001b[0m\u001b[1;33m,\u001b[0m\u001b[1;34m'distance'\u001b[0m\u001b[1;33m)\u001b[0m\u001b[1;33m.\u001b[0m\u001b[0mindex\u001b[0m\u001b[1;33m\u001b[0m\u001b[0m\n\u001b[0m\u001b[0;32m      3\u001b[0m \u001b[0mplot_top_n\u001b[0m\u001b[1;33m(\u001b[0m\u001b[0mselect_well_data\u001b[0m\u001b[1;33m,\u001b[0m \u001b[0mtop_k_index\u001b[0m\u001b[1;33m,\u001b[0m \u001b[0mtarget_index\u001b[0m\u001b[1;33m,\u001b[0m \u001b[1;34m'Unscaled Euclidean'\u001b[0m\u001b[1;33m)\u001b[0m\u001b[1;33m\u001b[0m\u001b[0m\n\u001b[0;32m      4\u001b[0m \u001b[1;33m\u001b[0m\u001b[0m\n\u001b[0;32m      5\u001b[0m \u001b[1;31m# let's 'predict' the breakdown_isip_ratio - kinda a fluke\u001b[0m\u001b[1;33m\u001b[0m\u001b[1;33m\u001b[0m\u001b[0m\n",
      "\u001b[1;31mNameError\u001b[0m: name 'select_well_data' is not defined"
     ]
    }
   ],
   "source": [
    "# distance on unscaled data\n",
    "top_k_index = select_well_data.nsmallest(10,'distance').index\n",
    "plot_top_n(select_well_data, top_k_index, target_index, 'Unscaled Euclidean')\n",
    "\n",
    "# let's 'predict' the breakdown_isip_ratio - kinda a fluke\n",
    "pred = select_well_data.loc[top_k_index,'breakdown_isip_ratio'].mean()\n",
    "actual = select_well_data.loc[target_index,'breakdown_isip_ratio']\n",
    "\n",
    "# print using f-strings\n",
    "print('Unscaled kNN prediction: ' + f'{pred:.3}' + ' vs target: ' + f'{actual:.3}')"
   ]
  },
  {
   "cell_type": "markdown",
   "metadata": {},
   "source": [
    "But distance, similarity, and clustering in general are very sensitive to scale. In the above dataframe you can see that the date column, coordinates, and geology parameters have very different scales. In this chunk we use the `sklearn` preprocessing framework (StandardScaler) to scale the dataframe. We write this for future use and then use it to run a knn prediction similar to the above."
   ]
  },
  {
   "cell_type": "code",
   "execution_count": 19,
   "metadata": {},
   "outputs": [
    {
     "name": "stdout",
     "output_type": "stream",
     "text": [
      "Scaled Euclidean kNN prediction: -0.143 vs target: -0.122\n"
     ]
    }
   ],
   "source": [
    "# let's scale the data using sklearn and try it again\n",
    "scaled_well_data = pd.DataFrame(\n",
    "        StandardScaler()\n",
    "        .fit_transform(select_well_data), \n",
    "        columns=select_well_data.columns)\n",
    "\n",
    "# We will write this as a .csv file so we can use it in later notebooks\n",
    "scaled_well_data.to_csv('../data/scaled_well_data.csv', index=False)\n",
    "\n",
    "# fortunately we are using functions - works exactly the same as above\n",
    "predict_print_knn(well_data_df = scaled_well_data, dist_func = ssd.euclidean,\n",
    "                  k = 10, target_index = target_index, \n",
    "                  column_str = 'breakdown_isip_ratio', \n",
    "                  title_str = 'Scaled Euclidean')"
   ]
  },
  {
   "cell_type": "markdown",
   "metadata": {},
   "source": [
    "A finally, we do the exact same thing, but using the official sklearn framework"
   ]
  },
  {
   "cell_type": "code",
   "execution_count": 8,
   "metadata": {},
   "outputs": [
    {
     "name": "stdout",
     "output_type": "stream",
     "text": [
      "sklearn kNN prediction: -0.17 vs target: -0.122\n"
     ]
    }
   ],
   "source": [
    "# Use the sklearn methods\n",
    "X = scaled_well_data.drop('breakdown_isip_ratio', axis=1)\n",
    "y = scaled_well_data['breakdown_isip_ratio']\n",
    "sk_knn = KNeighborsRegressor(n_neighbors=10).fit(X,y)\n",
    "pred = sk_knn.predict(scaled_well_data\n",
    "               .iloc[[target_index]]\n",
    "               .drop('breakdown_isip_ratio',axis=1))\n",
    "pred = np.asscalar(pred)\n",
    "actual = scaled_well_data.loc[target_index,'breakdown_isip_ratio']\n",
    "print('sklearn kNN prediction: ' + f'{pred:.3}' + ' vs target: ' + f'{actual:.3}')"
   ]
  },
  {
   "cell_type": "markdown",
   "metadata": {},
   "source": [
    "The last thing we should talk about is the distance measurement. You can realize very different results based on the type of distance function you use. We use `cosine` and `canberra` distnace."
   ]
  },
  {
   "cell_type": "code",
   "execution_count": 13,
   "metadata": {},
   "outputs": [
    {
     "name": "stdout",
     "output_type": "stream",
     "text": [
      "Scaled Cosine kNN prediction: -0.0786 vs target: -0.122\n",
      "Scaled Mahalanobis kNN prediction: -0.0619 vs target: -0.122\n"
     ]
    }
   ],
   "source": [
    "# try a couple new distance function\n",
    "predict_print_knn(well_data_df = scaled_well_data, dist_func = ssd.cosine,\n",
    "                  k = 10, target_index = target_index, \n",
    "                  column_str = 'breakdown_isip_ratio', \n",
    "                  title_str = 'Scaled Cosine')\n",
    "\n",
    "predict_print_knn(well_data_df = scaled_well_data, dist_func = ssd.canberra,\n",
    "                  k = 10, target_index = target_index, \n",
    "                  column_str = 'breakdown_isip_ratio', \n",
    "                  title_str = 'Scaled Mahalanobis')"
   ]
  },
  {
   "cell_type": "markdown",
   "metadata": {
    "collapsed": true
   },
   "source": [
    "## Acknowledgments\n",
    "\n",
    "This presentation wouldn't have been possible without all the support I've received from the following organizations\n",
    "<img src=\"../images/untapped_sponsors.jpg\" alt=\"My amazing sponsors\" style=\"width: 400px;\"  align=\"left\"/>\n"
   ]
  }
 ],
 "metadata": {
  "kernelspec": {
   "display_name": "Python 3",
   "language": "python",
   "name": "python3"
  },
  "language_info": {
   "codemirror_mode": {
    "name": "ipython",
    "version": 3
   },
   "file_extension": ".py",
   "mimetype": "text/x-python",
   "name": "python",
   "nbconvert_exporter": "python",
   "pygments_lexer": "ipython3",
   "version": "3.6.3"
  }
 },
 "nbformat": 4,
 "nbformat_minor": 2
}
